{
 "cells": [
  {
   "cell_type": "code",
   "execution_count": 9,
   "id": "de0fbc01",
   "metadata": {},
   "outputs": [
    {
     "ename": "SyntaxError",
     "evalue": "invalid non-printable character U+3000 (2803137989.py, line 7)",
     "output_type": "error",
     "traceback": [
      "\u001b[1;36m  Input \u001b[1;32mIn [9]\u001b[1;36m\u001b[0m\n\u001b[1;33m    \u001b[0m\n\u001b[1;37m    ^\u001b[0m\n\u001b[1;31mSyntaxError\u001b[0m\u001b[1;31m:\u001b[0m invalid non-printable character U+3000\n"
     ]
    }
   ],
   "source": [
    "import MeCab\n",
    "\n",
    "wakati.parse(\"kも桃も桃のうち\").split()\n",
    "\n",
    "mecabTagger = MeCab.Tagger(\"-Owakati)\n",
    "noun_count = {}\n",
    "　　　\n",
    "node = mecabTagger.parseToNode(text)\n",
    "while node:\n",
    "    word = node.surface\n",
    "    hinshi = node.feature.split(\",\")[0]\n",
    "    if word in noun_count.keys() and hinshi == \"名詞\":\n",
    "        noun_freq = noun_count[word]\n",
    "        noun_count[word] = noun_freq + 1\n",
    "    elif hinshi == \"名詞\":\n",
    "        noun_count[word] = 1\n",
    "    else:\n",
    "        pass\n",
    "    node = node.next\n",
    "    \n",
    "noun_count = sorted(noun_count.items(), key=lambda x:x[1], reverse=True)\n",
    "print(noun_count)"
   ]
  },
  {
   "cell_type": "code",
   "execution_count": 10,
   "id": "bc60ca76",
   "metadata": {},
   "outputs": [
    {
     "name": "stdout",
     "output_type": "stream",
     "text": [
      "[('もも', 2), ('すもも', 1), ('うち', 1)]\n"
     ]
    }
   ],
   "source": [
    "import MeCab\n",
    "\n",
    "wakati = MeCab.Tagger(\"-Owakati\")\n",
    "text = \"すもももももももものうち\"\n",
    "words = wakati.parse(text).split()\n",
    "\n",
    "mecabTagger = MeCab.Tagger(\"-Owakati\")\n",
    "noun_count = {}\n",
    "\n",
    "node = mecabTagger.parseToNode(text)\n",
    "while node:\n",
    "    word = node.surface\n",
    "    hinshi = node.feature.split(\",\")[0]\n",
    "    if word in noun_count.keys() and hinshi == \"名詞\":\n",
    "        noun_freq = noun_count[word]\n",
    "        noun_count[word] = noun_freq + 1\n",
    "    elif hinshi == \"名詞\":\n",
    "        noun_count[word] = 1\n",
    "    else:\n",
    "        pass\n",
    "    node = node.next\n",
    "\n",
    "noun_count = sorted(noun_count.items(), key=lambda x: x[1], reverse=True)\n",
    "print(noun_count)\n"
   ]
  },
  {
   "cell_type": "code",
   "execution_count": 14,
   "id": "f3888df4",
   "metadata": {},
   "outputs": [
    {
     "name": "stdout",
     "output_type": "stream",
     "text": [
      "[('もも', 2), ('すもも', 1), ('うち', 1)]\n"
     ]
    }
   ],
   "source": [
    "import MeCab\n",
    "\n",
    "wakati = MeCab.Tagger(\"-Owakati\")\n",
    "text = \"すもももももももものうち\"\n",
    "words = wakati.parse(text).split()\n",
    "\n",
    "mecabTagger = MeCab.Tagger(\"-Owakati\")\n",
    "noun_count = {}\n",
    "\n",
    "node = mecabTagger.parseToNode(text)\n",
    "while node:\n",
    "    word = node.surface\n",
    "    hinshi = node.feature.split(\",\")[0]\n",
    "    if word in noun_count.keys():\n",
    "        noun_freq = noun_count[word]\n",
    "        noun_count[word] = noun_freq + 1\n",
    "    elif hinshi == \"名詞\":\n",
    "        noun_count[word] = 1\n",
    "    else:\n",
    "        pass\n",
    "    node = node.next\n",
    "\n",
    "noun_count = sorted(noun_count.items(), key=lambda x: x[1], reverse=True)\n",
    "print(noun_count)"
   ]
  },
  {
   "cell_type": "code",
   "execution_count": 12,
   "id": "a424a3e7",
   "metadata": {},
   "outputs": [
    {
     "name": "stdout",
     "output_type": "stream",
     "text": [
      "[('', 2), ('も', 2), ('の', 1)]\n"
     ]
    }
   ],
   "source": [
    "import MeCab\n",
    "\n",
    "wakati = MeCab.Tagger(\"-Owakati\")\n",
    "text = \"すもももももももものうち\"\n",
    "words = wakati.parse(text).split()\n",
    "\n",
    "mecabTagger = MeCab.Tagger(\"-Owakati\")\n",
    "word_count = {}\n",
    "\n",
    "node = mecabTagger.parseToNode(text)\n",
    "while node:\n",
    "    word = node.surface\n",
    "    hinshi = node.feature.split(\",\")[0]\n",
    "    if hinshi != \"名詞\":\n",
    "        if word in word_count.keys():\n",
    "            word_freq = word_count[word]\n",
    "            word_count[word] = word_freq + 1\n",
    "        else:\n",
    "            word_count[word] = 1\n",
    "    node = node.next\n",
    "\n",
    "word_count = sorted(word_count.items(), key=lambda x: x[1], reverse=True)\n",
    "print(word_count)\n"
   ]
  },
  {
   "cell_type": "code",
   "execution_count": 13,
   "id": "a8d2b90e",
   "metadata": {},
   "outputs": [
    {
     "name": "stdout",
     "output_type": "stream",
     "text": [
      "[('も', 2), ('の', 1)]\n"
     ]
    }
   ],
   "source": [
    "import MeCab\n",
    "\n",
    "wakati = MeCab.Tagger(\"-Owakati\")\n",
    "text = \"すもももももももものうち\"\n",
    "words = wakati.parse(text).split()\n",
    "\n",
    "mecabTagger = MeCab.Tagger()\n",
    "word_count = {}\n",
    "\n",
    "node = mecabTagger.parseToNode(text)\n",
    "while node:\n",
    "    if node.surface != \"\":\n",
    "        word = node.surface\n",
    "        hinshi = node.feature.split(\",\")[0]\n",
    "        if hinshi != \"名詞\":\n",
    "            if word in word_count.keys():\n",
    "                word_freq = word_count[word]\n",
    "                word_count[word] = word_freq + 1\n",
    "            else:\n",
    "                word_count[word] = 1\n",
    "    node = node.next\n",
    "\n",
    "word_count = sorted(word_count.items(), key=lambda x: x[1], reverse=True)\n",
    "print(word_count)\n"
   ]
  },
  {
   "cell_type": "code",
   "execution_count": 21,
   "id": "5dc8790c",
   "metadata": {},
   "outputs": [
    {
     "name": "stdout",
     "output_type": "stream",
     "text": [
      "も\n"
     ]
    }
   ],
   "source": [
    "import MeCab\n",
    "\n",
    "target = MeCab.Tagger(\"-Owakati\")\n",
    "text = 'すもももももももものうち'\n",
    "words = target.parse(text).split()\n",
    "\n"
   ]
  },
  {
   "cell_type": "code",
   "execution_count": 22,
   "id": "51b665e0",
   "metadata": {},
   "outputs": [
    {
     "name": "stdout",
     "output_type": "stream",
     "text": [
      "も: 2\n",
      "もも: 2\n"
     ]
    }
   ],
   "source": [
    "import MeCab\n",
    "from collections import Counter\n",
    "\n",
    "target = MeCab.Tagger(\"-Owakati\")\n",
    "text = 'すもももももももものうち'\n",
    "words = target.parse(text).split()\n",
    "\n",
    "word_counts = Counter(words)\n",
    "\n",
    "for word, count in word_counts.items():\n",
    "    if count > 1:\n",
    "        print(f\"{word}: {count}\")\n"
   ]
  },
  {
   "cell_type": "code",
   "execution_count": 27,
   "id": "2cd675ed",
   "metadata": {},
   "outputs": [
    {
     "name": "stdout",
     "output_type": "stream",
     "text": [
      "Counter({'も': 2, 'もも': 2, 'すもも': 1, 'の': 1, 'うち': 1})\n"
     ]
    }
   ],
   "source": [
    "import MeCab\n",
    "from collections import Counter\n",
    "\n",
    "target = MeCab.Tagger(\"-Owakati\")\n",
    "text = 'すもももももももものうち'\n",
    "words = target.parse(text).split()\n",
    "\n",
    "word_counts = Counter(words)\n",
    "\n",
    "print(word_counts)"
   ]
  },
  {
   "cell_type": "code",
   "execution_count": null,
   "id": "cb545031",
   "metadata": {},
   "outputs": [],
   "source": []
  }
 ],
 "metadata": {
  "kernelspec": {
   "display_name": "Python 3 (ipykernel)",
   "language": "python",
   "name": "python3"
  },
  "language_info": {
   "codemirror_mode": {
    "name": "ipython",
    "version": 3
   },
   "file_extension": ".py",
   "mimetype": "text/x-python",
   "name": "python",
   "nbconvert_exporter": "python",
   "pygments_lexer": "ipython3",
   "version": "3.9.12"
  }
 },
 "nbformat": 4,
 "nbformat_minor": 5
}
